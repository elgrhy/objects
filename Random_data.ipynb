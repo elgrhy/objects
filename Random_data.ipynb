{
  "cells": [
    {
      "cell_type": "markdown",
      "metadata": {
        "id": "view-in-github",
        "colab_type": "text"
      },
      "source": [
        "<a href=\"https://colab.research.google.com/github/elgrhy/objects/blob/main/Random_data.ipynb\" target=\"_parent\"><img src=\"https://colab.research.google.com/assets/colab-badge.svg\" alt=\"Open In Colab\"/></a>"
      ]
    },
    {
      "cell_type": "markdown",
      "source": [
        "Sure, here is a Python script that generates random data based on the contents of the CSV file you provided:"
      ],
      "metadata": {
        "id": "nTpdSc4a1Evk"
      }
    },
    {
      "cell_type": "code",
      "source": [
        "import random\n",
        "import csv\n",
        "\n",
        "# Generate random data for 5 rows\n",
        "data = []\n",
        "for i in range(5):\n",
        "  row = {}\n",
        "  row[\"age\"] = random.randint(20, 60)\n",
        "  row[\"gender\"] = random.choice([\"male\", \"female\"])\n",
        "  row[\"income\"] = random.randint(50000, 100000)\n",
        "  row[\"interest_1\"] = random.choice([\"sports\", \"music\", \"movies\", \"books\", \"travel\"])\n",
        "  row[\"interest_2\"] = random.choice([\"sports\", \"music\", \"movies\", \"books\", \"travel\"])\n",
        "  row[\"interest_3\"] = random.choice([\"sports\", \"music\", \"movies\", \"books\", \"travel\"])\n",
        "  row[\"number_of_posts\"] = random.randint(100, 500)\n",
        "  row[\"number_of_followers\"] = random.randint(1000, 5000)\n",
        "  row[\"number_of_likes\"] = random.randint(10000, 50000)\n",
        "  data.append(row)\n",
        "\n",
        "# Write the data to a CSV file\n",
        "with open(\"social_media_data.csv\", \"w\") as f:\n",
        "  writer = csv.DictWriter(f, fieldnames=[\"age\", \"gender\", \"income\", \"interest_1\", \"interest_2\", \"interest_3\", \"number_of_posts\", \"number_of_followers\", \"number_of_likes\"])\n",
        "  writer.writeheader()\n",
        "  for row in data:\n",
        "    writer.writerow(row)"
      ],
      "outputs": [],
      "execution_count": null,
      "metadata": {
        "id": "kI7zx9qM1Evs"
      }
    },
    {
      "cell_type": "markdown",
      "source": [
        "This script first generates random data for 5 rows. The data for each row includes the user's age, gender, income, interests, number of posts, number of followers, and number of likes. The data is then written to a CSV file called `social_media_data.csv`.\n",
        "\n",
        "I hope this helps! Let me know if you have any other questions."
      ],
      "metadata": {
        "id": "f-IE7WiY1Evy"
      }
    }
  ],
  "metadata": {
    "colab": {
      "provenance": [],
      "include_colab_link": true
    },
    "kernelspec": {
      "display_name": "Python 3",
      "name": "python3"
    }
  },
  "nbformat": 4,
  "nbformat_minor": 0
}