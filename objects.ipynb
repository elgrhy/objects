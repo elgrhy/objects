{
  "nbformat": 4,
  "nbformat_minor": 0,
  "metadata": {
    "colab": {
      "provenance": []
    },
    "kernelspec": {
      "name": "python3",
      "display_name": "Python 3"
    },
    "language_info": {
      "name": "python"
    }
  },
  "cells": [
    {
      "cell_type": "code",
      "source": [
        "import numpy as np\n",
        "import pandas as pd\n",
        "from google.colab import files\n",
        "\n",
        "# Define video parameters\n",
        "TIKTOK_LENGTH = 60\n",
        "INSTAGRAM_LENGTHS = [15, 60]\n",
        "TIKTOK_ASPECT_RATIO = '9:16'\n",
        "INSTAGRAM_ASPECT_RATIO = '4:5'\n",
        "TIKTOK_CONTENT_FORMAT = 'short-form, raw content'\n",
        "INSTAGRAM_CONTENT_FORMAT = 'polished posts'\n",
        "TIKTOK_AUDIENCE = 'diverse'\n",
        "INSTAGRAM_AUDIENCE = {'18-24': 0.35, '25-34': 0.25, '35-44': 0.20, '45-54': 0.10, '55+': 0.10}\n",
        "\n",
        "# Define video data headers\n",
        "VIDEO_HEADERS = ['video_id', 'likes', 'comments', 'views', 'followers', 'hashtags', 'audio_duration', 'duration', 'word_count', 'sentiment_score', 'object_detection']\n",
        "\n",
        "# Generate video data\n",
        "video_data = []\n",
        "\n",
        "\n",
        "hashtags_list = ['#fyp #dancechallenge', '#beautyhacks #makeup', '#fitness #workout', '#pets #funnyanimals', '#cooking #recipe']\n",
        "object_detection_list = [['person', 'dancer', 'music note'], ['lipstick', 'brush', 'compact'], ['person', 'weights', 'exercise mat'], ['cat', 'toy mouse', 'sofa'], ['cutting board', 'knife', 'vegetables'], ['Ski boots', 'ski poles', 'ski helmet']]\n",
        "\n",
        "\n",
        "for i in range(1, 10001):\n",
        "    # Randomly select video parameters\n",
        "    platform = np.random.choice(['TikTok', 'Instagram'])\n",
        "    if platform == 'TikTok':\n",
        "        length = TIKTOK_LENGTH\n",
        "        aspect_ratio = TIKTOK_ASPECT_RATIO\n",
        "        content_format = TIKTOK_CONTENT_FORMAT\n",
        "        audience = TIKTOK_AUDIENCE\n",
        "    else:\n",
        "        length = np.random.choice(INSTAGRAM_LENGTHS)\n",
        "        aspect_ratio = INSTAGRAM_ASPECT_RATIO\n",
        "        content_format = INSTAGRAM_CONTENT_FORMAT\n",
        "        audience = np.random.choice(list(INSTAGRAM_AUDIENCE.keys()), p=list(INSTAGRAM_AUDIENCE.values()))\n",
        "\n",
        "    # Generate video data\n",
        "    video_id = i\n",
        "    likes = np.random.randint(0, 2000)\n",
        "    comments = np.random.randint(0, 100)\n",
        "    views = np.random.randint(0, 5000)\n",
        "    followers = np.random.randint(0, 1000000)\n",
        "    hashtags = ' '.join(np.random.choice(hashtags_list, size=2))\n",
        "    audio_duration = np.random.randint(0, 120)\n",
        "    duration = np.random.randint(0, 180)\n",
        "    word_count = np.random.randint(0, 90)\n",
        "    sentiment_score = round(np.random.uniform(-1.0, 1.0), 2)\n",
        "    object_detection = ', '.join(np.random.choice(object_detection_list[i % len(object_detection_list)], size=3))\n",
        "\n",
        "    # Append video data to list\n",
        "    video_data.append([video_id, likes, comments, views, followers, hashtags, audio_duration, duration, word_count, sentiment_score, object_detection])\n",
        "\n",
        "# Create DataFrame object from video data and headers\n",
        "df_video_data = pd.DataFrame(video_data, columns=VIDEO_HEADERS)\n",
        "\n",
        "# Save DataFrame object to CSV file and download it to local machine\n",
        "df_video_data.to_csv('video_data.csv')\n",
        "files.download('video_data.csv')\n"
      ],
      "metadata": {
        "colab": {
          "base_uri": "https://localhost:8080/",
          "height": 17
        },
        "id": "C2h3CS_M-Cf7",
        "outputId": "51dfbe16-16de-4b0c-921f-18b832ae4765"
      },
      "execution_count": 13,
      "outputs": [
        {
          "output_type": "display_data",
          "data": {
            "text/plain": [
              "<IPython.core.display.Javascript object>"
            ],
            "application/javascript": [
              "\n",
              "    async function download(id, filename, size) {\n",
              "      if (!google.colab.kernel.accessAllowed) {\n",
              "        return;\n",
              "      }\n",
              "      const div = document.createElement('div');\n",
              "      const label = document.createElement('label');\n",
              "      label.textContent = `Downloading \"${filename}\": `;\n",
              "      div.appendChild(label);\n",
              "      const progress = document.createElement('progress');\n",
              "      progress.max = size;\n",
              "      div.appendChild(progress);\n",
              "      document.body.appendChild(div);\n",
              "\n",
              "      const buffers = [];\n",
              "      let downloaded = 0;\n",
              "\n",
              "      const channel = await google.colab.kernel.comms.open(id);\n",
              "      // Send a message to notify the kernel that we're ready.\n",
              "      channel.send({})\n",
              "\n",
              "      for await (const message of channel.messages) {\n",
              "        // Send a message to notify the kernel that we're ready.\n",
              "        channel.send({})\n",
              "        if (message.buffers) {\n",
              "          for (const buffer of message.buffers) {\n",
              "            buffers.push(buffer);\n",
              "            downloaded += buffer.byteLength;\n",
              "            progress.value = downloaded;\n",
              "          }\n",
              "        }\n",
              "      }\n",
              "      const blob = new Blob(buffers, {type: 'application/binary'});\n",
              "      const a = document.createElement('a');\n",
              "      a.href = window.URL.createObjectURL(blob);\n",
              "      a.download = filename;\n",
              "      div.appendChild(a);\n",
              "      a.click();\n",
              "      div.remove();\n",
              "    }\n",
              "  "
            ]
          },
          "metadata": {}
        },
        {
          "output_type": "display_data",
          "data": {
            "text/plain": [
              "<IPython.core.display.Javascript object>"
            ],
            "application/javascript": [
              "download(\"download_bd10aed9-96ff-46f5-ae62-ea2642cdf27d\", \"video_data.csv\", 1115179)"
            ]
          },
          "metadata": {}
        }
      ]
    }
  ]
}